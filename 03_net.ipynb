{
 "cells": [
  {
   "cell_type": "code",
   "execution_count": 2,
   "metadata": {},
   "outputs": [],
   "source": [
    "import tensorflow as tf\n",
    "import numpy as np\n",
    "from tensorflow.examples.tutorials.mnist import input_data"
   ]
  },
  {
   "cell_type": "code",
   "execution_count": 3,
   "metadata": {},
   "outputs": [
    {
     "name": "stdout",
     "output_type": "stream",
     "text": [
      "Extracting MNIST_data/train-images-idx3-ubyte.gz\n",
      "Extracting MNIST_data/train-labels-idx1-ubyte.gz\n",
      "Extracting MNIST_data/t10k-images-idx3-ubyte.gz\n",
      "Extracting MNIST_data/t10k-labels-idx1-ubyte.gz\n"
     ]
    }
   ],
   "source": [
    "def init_weights(shape):\n",
    "    return tf.Variable(tf.random_normal(shape, stddev=0.01))\n",
    "\n",
    "def model(X, w_h, w_o):\n",
    "    h = tf.nn.sigmoid(tf.matmul(X, w_h)) # this is a basic mlp, think 2 stacked logistic regressions\n",
    "    return tf.matmul(h, w_o) # note that we dont take the softmax at the end because our cost fn does that for us\n",
    "\n",
    "mnist = input_data.read_data_sets(\"MNIST_data/\", one_hot=True)\n",
    "trX, trY, teX, teY = mnist.train.images, mnist.train.labels, mnist.test.images, mnist.test.labels"
   ]
  },
  {
   "cell_type": "code",
   "execution_count": 5,
   "metadata": {},
   "outputs": [],
   "source": [
    "X = tf.placeholder(\"float\", [None, 784])\n",
    "Y = tf.placeholder(\"float\", [None, 10])\n",
    "\n",
    "w_h = init_weights([784, 625]) # create symbolic variables\n",
    "w_o = init_weights([625, 10])\n",
    "\n",
    "py_x = model(X, w_h, w_o)\n",
    "\n",
    "cost = tf.reduce_mean(tf.nn.softmax_cross_entropy_with_logits(logits=py_x, labels=Y)) # compute costs\n",
    "train_op = tf.train.GradientDescentOptimizer(0.05).minimize(cost) # construct an optimizer\n",
    "predict_op = tf.argmax(py_x, 1)"
   ]
  },
  {
   "cell_type": "code",
   "execution_count": 6,
   "metadata": {},
   "outputs": [
    {
     "name": "stdout",
     "output_type": "stream",
     "text": [
      "0 0.6895\n",
      "1 0.8232\n",
      "2 0.8607\n",
      "3 0.8803\n",
      "4 0.8871\n",
      "5 0.8925\n",
      "6 0.897\n",
      "7 0.9004\n",
      "8 0.904\n",
      "9 0.9051\n",
      "10 0.9076\n",
      "11 0.91\n",
      "12 0.9113\n",
      "13 0.913\n",
      "14 0.9142\n",
      "15 0.915\n",
      "16 0.9155\n",
      "17 0.917\n",
      "18 0.9178\n",
      "19 0.9182\n",
      "20 0.9182\n",
      "21 0.919\n",
      "22 0.9196\n",
      "23 0.92\n",
      "24 0.9207\n",
      "25 0.9214\n",
      "26 0.9217\n",
      "27 0.9223\n",
      "28 0.9225\n",
      "29 0.9227\n",
      "30 0.9231\n",
      "31 0.9237\n",
      "32 0.9241\n",
      "33 0.9247\n",
      "34 0.925\n",
      "35 0.9263\n",
      "36 0.9271\n",
      "37 0.9272\n",
      "38 0.9273\n",
      "39 0.9283\n",
      "40 0.9284\n",
      "41 0.929\n",
      "42 0.9293\n",
      "43 0.9296\n",
      "44 0.9299\n",
      "45 0.9307\n",
      "46 0.9313\n",
      "47 0.9321\n",
      "48 0.9325\n",
      "49 0.9329\n",
      "50 0.9335\n",
      "51 0.9348\n",
      "52 0.9351\n",
      "53 0.9357\n",
      "54 0.9364\n",
      "55 0.9371\n",
      "56 0.9378\n",
      "57 0.9382\n",
      "58 0.939\n",
      "59 0.9396\n",
      "60 0.9397\n",
      "61 0.9402\n",
      "62 0.9406\n",
      "63 0.9409\n",
      "64 0.9414\n",
      "65 0.9417\n",
      "66 0.9423\n",
      "67 0.943\n",
      "68 0.9436\n",
      "69 0.9435\n",
      "70 0.9442\n",
      "71 0.9447\n",
      "72 0.9451\n",
      "73 0.9453\n",
      "74 0.9453\n",
      "75 0.9456\n",
      "76 0.9458\n",
      "77 0.9465\n",
      "78 0.9469\n",
      "79 0.9472\n",
      "80 0.9474\n",
      "81 0.9477\n",
      "82 0.9481\n",
      "83 0.9489\n",
      "84 0.95\n",
      "85 0.9502\n",
      "86 0.9509\n",
      "87 0.9514\n",
      "88 0.9514\n",
      "89 0.9519\n",
      "90 0.9521\n",
      "91 0.9524\n",
      "92 0.9527\n",
      "93 0.9528\n",
      "94 0.9529\n",
      "95 0.9533\n",
      "96 0.9535\n",
      "97 0.9539\n",
      "98 0.9543\n",
      "99 0.9549\n"
     ]
    }
   ],
   "source": [
    "# Launch the graph in a session\n",
    "with tf.Session() as sess:\n",
    "    # you need to initialize all variables\n",
    "    tf.global_variables_initializer().run()\n",
    "\n",
    "    for i in range(100):\n",
    "        for start, end in zip(range(0, len(trX), 128), range(128, len(trX)+1, 128)):\n",
    "            sess.run(train_op, feed_dict={X: trX[start:end], Y: trY[start:end]})\n",
    "        print(i, np.mean(np.argmax(teY, axis=1) ==\n",
    "                         sess.run(predict_op, feed_dict={X: teX})))"
   ]
  },
  {
   "cell_type": "code",
   "execution_count": null,
   "metadata": {
    "collapsed": true
   },
   "outputs": [],
   "source": []
  }
 ],
 "metadata": {
  "kernelspec": {
   "display_name": "Python 3",
   "language": "python",
   "name": "python3"
  },
  "language_info": {
   "codemirror_mode": {
    "name": "ipython",
    "version": 3
   },
   "file_extension": ".py",
   "mimetype": "text/x-python",
   "name": "python",
   "nbconvert_exporter": "python",
   "pygments_lexer": "ipython3",
   "version": "3.6.4"
  }
 },
 "nbformat": 4,
 "nbformat_minor": 1
}
