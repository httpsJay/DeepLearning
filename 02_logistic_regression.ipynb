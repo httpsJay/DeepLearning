{
 "cells": [
  {
   "cell_type": "code",
   "execution_count": 1,
   "metadata": {},
   "outputs": [
    {
     "name": "stderr",
     "output_type": "stream",
     "text": [
      "C:\\ProgramData\\Anaconda3\\lib\\site-packages\\h5py\\__init__.py:36: FutureWarning: Conversion of the second argument of issubdtype from `float` to `np.floating` is deprecated. In future, it will be treated as `np.float64 == np.dtype(float).type`.\n",
      "  from ._conv import register_converters as _register_converters\n"
     ]
    }
   ],
   "source": [
    "import tensorflow as tf\n",
    "import numpy as np\n",
    "from tensorflow.examples.tutorials.mnist import input_data"
   ]
  },
  {
   "cell_type": "code",
   "execution_count": 2,
   "metadata": {},
   "outputs": [
    {
     "name": "stdout",
     "output_type": "stream",
     "text": [
      "Successfully downloaded train-images-idx3-ubyte.gz 9912422 bytes.\n",
      "Extracting MNIST_data/train-images-idx3-ubyte.gz\n",
      "Successfully downloaded train-labels-idx1-ubyte.gz 28881 bytes.\n",
      "Extracting MNIST_data/train-labels-idx1-ubyte.gz\n",
      "Successfully downloaded t10k-images-idx3-ubyte.gz 1648877 bytes.\n",
      "Extracting MNIST_data/t10k-images-idx3-ubyte.gz\n",
      "Successfully downloaded t10k-labels-idx1-ubyte.gz 4542 bytes.\n",
      "Extracting MNIST_data/t10k-labels-idx1-ubyte.gz\n"
     ]
    }
   ],
   "source": [
    "def init_weights(shape):\n",
    "    return tf.Variable(tf.random_normal(shape, stddev=0.01))\n",
    "\n",
    "def model(X, w):\n",
    "    return tf.matmul(X, w) # notice we use the same model as linear regression, this is because there is a baked in cost function which performs softmax and cross entropy\n",
    "\n",
    "mnist = input_data.read_data_sets(\"MNIST_data/\", one_hot=True)\n",
    "trX, trY, teX, teY = mnist.train.images, mnist.train.labels, mnist.test.images, mnist.test.labels"
   ]
  },
  {
   "cell_type": "code",
   "execution_count": 3,
   "metadata": {},
   "outputs": [
    {
     "data": {
      "text/plain": [
       "array([[0., 0., 0., ..., 0., 0., 0.],\n",
       "       [0., 0., 0., ..., 0., 0., 0.],\n",
       "       [0., 0., 0., ..., 0., 0., 0.],\n",
       "       ...,\n",
       "       [0., 0., 0., ..., 0., 0., 0.],\n",
       "       [0., 0., 0., ..., 0., 0., 0.],\n",
       "       [0., 0., 0., ..., 0., 0., 0.]], dtype=float32)"
      ]
     },
     "execution_count": 3,
     "metadata": {},
     "output_type": "execute_result"
    }
   ],
   "source": [
    "trX"
   ]
  },
  {
   "cell_type": "code",
   "execution_count": 4,
   "metadata": {},
   "outputs": [
    {
     "data": {
      "text/plain": [
       "array([[0., 0., 0., ..., 1., 0., 0.],\n",
       "       [0., 0., 0., ..., 0., 0., 0.],\n",
       "       [0., 0., 0., ..., 0., 0., 0.],\n",
       "       ...,\n",
       "       [0., 0., 0., ..., 0., 0., 0.],\n",
       "       [0., 0., 0., ..., 0., 0., 0.],\n",
       "       [0., 0., 0., ..., 0., 1., 0.]])"
      ]
     },
     "execution_count": 4,
     "metadata": {},
     "output_type": "execute_result"
    }
   ],
   "source": [
    "trY"
   ]
  },
  {
   "cell_type": "code",
   "execution_count": 6,
   "metadata": {},
   "outputs": [],
   "source": [
    "X = tf.placeholder(\"float\", [None, 784]) # create symbolic variables\n",
    "Y = tf.placeholder(\"float\", [None, 10])\n",
    "\n",
    "w = init_weights([784, 10]) # like in linear regression, we need a shared variable weight matrix for logistic regression\n",
    "\n",
    "py_x = model(X, w)\n",
    "\n",
    "cost = tf.reduce_mean(tf.nn.softmax_cross_entropy_with_logits(logits=py_x, labels=Y)) # compute mean cross entropy (softmax is applied internally)\n",
    "train_op = tf.train.GradientDescentOptimizer(0.05).minimize(cost) # construct optimizer\n",
    "predict_op = tf.argmax(py_x, 1) # at predict time, evaluate the argmax of the logistic regression"
   ]
  },
  {
   "cell_type": "code",
   "execution_count": 7,
   "metadata": {},
   "outputs": [
    {
     "name": "stdout",
     "output_type": "stream",
     "text": [
      "0 0.8841\n",
      "1 0.8965\n",
      "2 0.9037\n",
      "3 0.9069\n",
      "4 0.9095\n",
      "5 0.9107\n",
      "6 0.9118\n",
      "7 0.9131\n",
      "8 0.9146\n",
      "9 0.9154\n",
      "10 0.9159\n",
      "11 0.9161\n",
      "12 0.9167\n",
      "13 0.9168\n",
      "14 0.9171\n",
      "15 0.9178\n",
      "16 0.9181\n",
      "17 0.9189\n",
      "18 0.9192\n",
      "19 0.9194\n",
      "20 0.9197\n",
      "21 0.9201\n",
      "22 0.9202\n",
      "23 0.9211\n",
      "24 0.9209\n",
      "25 0.9209\n",
      "26 0.9209\n",
      "27 0.921\n",
      "28 0.9213\n",
      "29 0.9217\n",
      "30 0.9216\n",
      "31 0.9217\n",
      "32 0.9218\n",
      "33 0.9215\n",
      "34 0.9216\n",
      "35 0.9216\n",
      "36 0.9219\n",
      "37 0.9219\n",
      "38 0.9219\n",
      "39 0.922\n",
      "40 0.9219\n",
      "41 0.9218\n",
      "42 0.9218\n",
      "43 0.9218\n",
      "44 0.922\n",
      "45 0.9219\n",
      "46 0.9221\n",
      "47 0.9221\n",
      "48 0.9218\n",
      "49 0.9218\n",
      "50 0.922\n",
      "51 0.922\n",
      "52 0.9221\n",
      "53 0.9221\n",
      "54 0.922\n",
      "55 0.9219\n",
      "56 0.9221\n",
      "57 0.9224\n",
      "58 0.9229\n",
      "59 0.923\n",
      "60 0.9233\n",
      "61 0.9233\n",
      "62 0.9233\n",
      "63 0.9235\n",
      "64 0.9235\n",
      "65 0.9236\n",
      "66 0.9238\n",
      "67 0.9237\n",
      "68 0.9235\n",
      "69 0.9236\n",
      "70 0.9239\n",
      "71 0.9239\n",
      "72 0.9238\n",
      "73 0.9238\n",
      "74 0.9236\n",
      "75 0.9237\n",
      "76 0.9237\n",
      "77 0.9238\n",
      "78 0.9237\n",
      "79 0.9237\n",
      "80 0.9238\n",
      "81 0.9238\n",
      "82 0.9238\n",
      "83 0.9238\n",
      "84 0.9238\n",
      "85 0.9238\n",
      "86 0.9239\n",
      "87 0.9237\n",
      "88 0.9236\n",
      "89 0.9235\n",
      "90 0.9236\n",
      "91 0.9236\n",
      "92 0.9236\n",
      "93 0.9237\n",
      "94 0.9237\n",
      "95 0.9238\n",
      "96 0.9237\n",
      "97 0.9236\n",
      "98 0.9236\n",
      "99 0.9236\n"
     ]
    }
   ],
   "source": [
    "# Launch the graph in a session\n",
    "with tf.Session() as sess:\n",
    "    # you need to initialize all variables\n",
    "    tf.global_variables_initializer().run()\n",
    "\n",
    "    for i in range(100):\n",
    "        for start, end in zip(range(0, len(trX), 128), range(128, len(trX)+1, 128)):\n",
    "            sess.run(train_op, feed_dict={X: trX[start:end], Y: trY[start:end]})\n",
    "        print(i, np.mean(np.argmax(teY, axis=1) ==\n",
    "                         sess.run(predict_op, feed_dict={X: teX})))"
   ]
  }
 ],
 "metadata": {
  "kernelspec": {
   "display_name": "Python 3",
   "language": "python",
   "name": "python3"
  },
  "language_info": {
   "codemirror_mode": {
    "name": "ipython",
    "version": 3
   },
   "file_extension": ".py",
   "mimetype": "text/x-python",
   "name": "python",
   "nbconvert_exporter": "python",
   "pygments_lexer": "ipython3",
   "version": "3.6.4"
  }
 },
 "nbformat": 4,
 "nbformat_minor": 1
}
